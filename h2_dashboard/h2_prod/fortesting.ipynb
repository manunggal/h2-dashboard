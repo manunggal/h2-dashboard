{
 "cells": [
  {
   "cell_type": "code",
   "execution_count": null,
   "metadata": {},
   "outputs": [],
   "source": [
    "import os\n",
    "import django\n",
    "\n",
    "os.environ.setdefault('DJANGO_SETTINGS_MODULE', 'h2_dashboard.settings')\n",
    "django.setup()"
   ]
  },
  {
   "cell_type": "code",
   "execution_count": 2,
   "metadata": {},
   "outputs": [],
   "source": [
    "from django.apps import apps\n",
    "\n",
    "def get_benchmark_data():\n",
    "    # List of benchmark models you have, e.g., ['ElectricityProductionBenchmark', 'CO2EmissionsBenchmark']\n",
    "    benchmark_models = ['ElectricityProductionBenchmark', 'CO2EmissionsBenchmark']\n",
    "    benchmark_data = {}\n",
    "\n",
    "    for model_name in benchmark_models:\n",
    "        model = apps.get_model('h2_prod', model_name)  # Adjust 'h2_prod' to your app name if different\n",
    "        benchmarks = model.objects.all()\n",
    "\n",
    "        for benchmark in benchmarks:\n",
    "            key = f\"{model_name}-{benchmark.year}\"\n",
    "            if key not in benchmark_data:\n",
    "                benchmark_data[key] = []\n",
    "            benchmark_data[key].append(benchmark.value)\n",
    "\n",
    "    return benchmark_data\n"
   ]
  },
  {
   "cell_type": "code",
   "execution_count": 5,
   "metadata": {},
   "outputs": [
    {
     "name": "stdout",
     "output_type": "stream",
     "text": [
      "1963\n"
     ]
    }
   ],
   "source": [
    "def current_total_co2_emissions(total_h2_production):\n",
    "    # Percentage of hydrogen production from each source\n",
    "    percentage_gas = 0.48\n",
    "    percentage_oil = 0.3\n",
    "    percentage_coal = 0.18\n",
    "    percentage_electro = 0.04\n",
    "\n",
    "    # CO2 emissions (kg) from each source\n",
    "    co2_per_kg_gas = 12  # kg CO2e per kg H2\n",
    "    co2_per_kg_oil = 18  # kg CO2e per kg H2\n",
    "    co2_per_kg_coal = 24  # kg CO2e per kg H2\n",
    "    co2_per_kg_electro = 22  # kg CO2e per kg H2\n",
    "\n",
    "    # Convert total hydrogen production from megatonnes to kilograms (1 megatonne = 1,000,000,000 kg)\n",
    "    total_h2_prod_kg = total_h2_production * 1e9\n",
    "\n",
    "    # Calculating the CO2 emissions from each source\n",
    "    co2_emissions_gas = total_h2_prod_kg * percentage_gas * co2_per_kg_gas\n",
    "    co2_emissions_oil = total_h2_prod_kg * percentage_oil * co2_per_kg_oil\n",
    "    co2_emissions_coal = total_h2_prod_kg * percentage_coal * co2_per_kg_coal\n",
    "    co2_emissions_electro = total_h2_prod_kg * percentage_electro * co2_per_kg_electro\n",
    "\n",
    "    # Summing up the CO2 emissions from all sources to get the total CO2 emissions from hydrogen production\n",
    "    previous_co2_emission = co2_emissions_gas + co2_emissions_oil + co2_emissions_coal + co2_emissions_electro\n",
    "    return previous_co2_emission * 1e-9  # Conversion to Mega tonnes\n",
    "\n",
    "print(round(current_total_co2_emissions(120)))"
   ]
  },
  {
   "cell_type": "markdown",
   "metadata": {},
   "source": [
    "Customize Your Templates:\n",
    "\n",
    "Begin integrating the AdminLTE template into your Django views. Replace the HTML structure in your Django templates with the structure from AdminLTE's HTML files, making sure to keep Django template tags and context variables intac"
   ]
  }
 ],
 "metadata": {
  "kernelspec": {
   "display_name": "h2_django",
   "language": "python",
   "name": "python3"
  },
  "language_info": {
   "codemirror_mode": {
    "name": "ipython",
    "version": 3
   },
   "file_extension": ".py",
   "mimetype": "text/x-python",
   "name": "python",
   "nbconvert_exporter": "python",
   "pygments_lexer": "ipython3",
   "version": "3.9.12"
  }
 },
 "nbformat": 4,
 "nbformat_minor": 2
}
