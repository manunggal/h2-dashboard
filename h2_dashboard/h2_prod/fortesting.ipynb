{
 "cells": [
  {
   "cell_type": "code",
   "execution_count": 4,
   "metadata": {},
   "outputs": [
    {
     "ename": "ModuleNotFoundError",
     "evalue": "No module named 'h2_dashboard.settings'",
     "output_type": "error",
     "traceback": [
      "\u001b[1;31m---------------------------------------------------------------------------\u001b[0m",
      "\u001b[1;31mModuleNotFoundError\u001b[0m                       Traceback (most recent call last)",
      "\u001b[1;32mc:\\Users\\manun\\Documents\\CodingProjects\\Python\\hydrogen_issues\\h2_django\\h2_dashboard\\h2_prod\\fortesting.ipynb Cell 1\u001b[0m line \u001b[0;36m5\n\u001b[0;32m      <a href='vscode-notebook-cell:/c%3A/Users/manun/Documents/CodingProjects/Python/hydrogen_issues/h2_django/h2_dashboard/h2_prod/fortesting.ipynb#W4sZmlsZQ%3D%3D?line=1'>2</a>\u001b[0m \u001b[39mimport\u001b[39;00m \u001b[39mdjango\u001b[39;00m\n\u001b[0;32m      <a href='vscode-notebook-cell:/c%3A/Users/manun/Documents/CodingProjects/Python/hydrogen_issues/h2_django/h2_dashboard/h2_prod/fortesting.ipynb#W4sZmlsZQ%3D%3D?line=3'>4</a>\u001b[0m os\u001b[39m.\u001b[39menviron\u001b[39m.\u001b[39msetdefault(\u001b[39m'\u001b[39m\u001b[39mDJANGO_SETTINGS_MODULE\u001b[39m\u001b[39m'\u001b[39m, \u001b[39m'\u001b[39m\u001b[39mh2_dashboard.settings\u001b[39m\u001b[39m'\u001b[39m)\n\u001b[1;32m----> <a href='vscode-notebook-cell:/c%3A/Users/manun/Documents/CodingProjects/Python/hydrogen_issues/h2_django/h2_dashboard/h2_prod/fortesting.ipynb#W4sZmlsZQ%3D%3D?line=4'>5</a>\u001b[0m django\u001b[39m.\u001b[39;49msetup()\n",
      "File \u001b[1;32mc:\\Users\\manun\\Documents\\CodingProjects\\Python\\hydrogen_issues\\h2_django\\lib\\site-packages\\django\\__init__.py:19\u001b[0m, in \u001b[0;36msetup\u001b[1;34m(set_prefix)\u001b[0m\n\u001b[0;32m     16\u001b[0m \u001b[39mfrom\u001b[39;00m \u001b[39mdjango\u001b[39;00m\u001b[39m.\u001b[39;00m\u001b[39murls\u001b[39;00m \u001b[39mimport\u001b[39;00m set_script_prefix\n\u001b[0;32m     17\u001b[0m \u001b[39mfrom\u001b[39;00m \u001b[39mdjango\u001b[39;00m\u001b[39m.\u001b[39;00m\u001b[39mutils\u001b[39;00m\u001b[39m.\u001b[39;00m\u001b[39mlog\u001b[39;00m \u001b[39mimport\u001b[39;00m configure_logging\n\u001b[1;32m---> 19\u001b[0m configure_logging(settings\u001b[39m.\u001b[39;49mLOGGING_CONFIG, settings\u001b[39m.\u001b[39mLOGGING)\n\u001b[0;32m     20\u001b[0m \u001b[39mif\u001b[39;00m set_prefix:\n\u001b[0;32m     21\u001b[0m     set_script_prefix(\n\u001b[0;32m     22\u001b[0m         \u001b[39m\"\u001b[39m\u001b[39m/\u001b[39m\u001b[39m\"\u001b[39m \u001b[39mif\u001b[39;00m settings\u001b[39m.\u001b[39mFORCE_SCRIPT_NAME \u001b[39mis\u001b[39;00m \u001b[39mNone\u001b[39;00m \u001b[39melse\u001b[39;00m settings\u001b[39m.\u001b[39mFORCE_SCRIPT_NAME\n\u001b[0;32m     23\u001b[0m     )\n",
      "File \u001b[1;32mc:\\Users\\manun\\Documents\\CodingProjects\\Python\\hydrogen_issues\\h2_django\\lib\\site-packages\\django\\conf\\__init__.py:102\u001b[0m, in \u001b[0;36mLazySettings.__getattr__\u001b[1;34m(self, name)\u001b[0m\n\u001b[0;32m    100\u001b[0m \u001b[39m\u001b[39m\u001b[39m\"\"\"Return the value of a setting and cache it in self.__dict__.\"\"\"\u001b[39;00m\n\u001b[0;32m    101\u001b[0m \u001b[39mif\u001b[39;00m (_wrapped \u001b[39m:=\u001b[39m \u001b[39mself\u001b[39m\u001b[39m.\u001b[39m_wrapped) \u001b[39mis\u001b[39;00m empty:\n\u001b[1;32m--> 102\u001b[0m     \u001b[39mself\u001b[39;49m\u001b[39m.\u001b[39;49m_setup(name)\n\u001b[0;32m    103\u001b[0m     _wrapped \u001b[39m=\u001b[39m \u001b[39mself\u001b[39m\u001b[39m.\u001b[39m_wrapped\n\u001b[0;32m    104\u001b[0m val \u001b[39m=\u001b[39m \u001b[39mgetattr\u001b[39m(_wrapped, name)\n",
      "File \u001b[1;32mc:\\Users\\manun\\Documents\\CodingProjects\\Python\\hydrogen_issues\\h2_django\\lib\\site-packages\\django\\conf\\__init__.py:89\u001b[0m, in \u001b[0;36mLazySettings._setup\u001b[1;34m(self, name)\u001b[0m\n\u001b[0;32m     81\u001b[0m     desc \u001b[39m=\u001b[39m (\u001b[39m\"\u001b[39m\u001b[39msetting \u001b[39m\u001b[39m%s\u001b[39;00m\u001b[39m\"\u001b[39m \u001b[39m%\u001b[39m name) \u001b[39mif\u001b[39;00m name \u001b[39melse\u001b[39;00m \u001b[39m\"\u001b[39m\u001b[39msettings\u001b[39m\u001b[39m\"\u001b[39m\n\u001b[0;32m     82\u001b[0m     \u001b[39mraise\u001b[39;00m ImproperlyConfigured(\n\u001b[0;32m     83\u001b[0m         \u001b[39m\"\u001b[39m\u001b[39mRequested \u001b[39m\u001b[39m%s\u001b[39;00m\u001b[39m, but settings are not configured. \u001b[39m\u001b[39m\"\u001b[39m\n\u001b[0;32m     84\u001b[0m         \u001b[39m\"\u001b[39m\u001b[39mYou must either define the environment variable \u001b[39m\u001b[39m%s\u001b[39;00m\u001b[39m \u001b[39m\u001b[39m\"\u001b[39m\n\u001b[0;32m     85\u001b[0m         \u001b[39m\"\u001b[39m\u001b[39mor call settings.configure() before accessing settings.\u001b[39m\u001b[39m\"\u001b[39m\n\u001b[0;32m     86\u001b[0m         \u001b[39m%\u001b[39m (desc, ENVIRONMENT_VARIABLE)\n\u001b[0;32m     87\u001b[0m     )\n\u001b[1;32m---> 89\u001b[0m \u001b[39mself\u001b[39m\u001b[39m.\u001b[39m_wrapped \u001b[39m=\u001b[39m Settings(settings_module)\n",
      "File \u001b[1;32mc:\\Users\\manun\\Documents\\CodingProjects\\Python\\hydrogen_issues\\h2_django\\lib\\site-packages\\django\\conf\\__init__.py:217\u001b[0m, in \u001b[0;36mSettings.__init__\u001b[1;34m(self, settings_module)\u001b[0m\n\u001b[0;32m    214\u001b[0m \u001b[39m# store the settings module in case someone later cares\u001b[39;00m\n\u001b[0;32m    215\u001b[0m \u001b[39mself\u001b[39m\u001b[39m.\u001b[39mSETTINGS_MODULE \u001b[39m=\u001b[39m settings_module\n\u001b[1;32m--> 217\u001b[0m mod \u001b[39m=\u001b[39m importlib\u001b[39m.\u001b[39;49mimport_module(\u001b[39mself\u001b[39;49m\u001b[39m.\u001b[39;49mSETTINGS_MODULE)\n\u001b[0;32m    219\u001b[0m tuple_settings \u001b[39m=\u001b[39m (\n\u001b[0;32m    220\u001b[0m     \u001b[39m\"\u001b[39m\u001b[39mALLOWED_HOSTS\u001b[39m\u001b[39m\"\u001b[39m,\n\u001b[0;32m    221\u001b[0m     \u001b[39m\"\u001b[39m\u001b[39mINSTALLED_APPS\u001b[39m\u001b[39m\"\u001b[39m,\n\u001b[1;32m   (...)\u001b[0m\n\u001b[0;32m    224\u001b[0m     \u001b[39m\"\u001b[39m\u001b[39mSECRET_KEY_FALLBACKS\u001b[39m\u001b[39m\"\u001b[39m,\n\u001b[0;32m    225\u001b[0m )\n\u001b[0;32m    226\u001b[0m \u001b[39mself\u001b[39m\u001b[39m.\u001b[39m_explicit_settings \u001b[39m=\u001b[39m \u001b[39mset\u001b[39m()\n",
      "File \u001b[1;32m~\\anaconda3\\lib\\importlib\\__init__.py:127\u001b[0m, in \u001b[0;36mimport_module\u001b[1;34m(name, package)\u001b[0m\n\u001b[0;32m    125\u001b[0m             \u001b[39mbreak\u001b[39;00m\n\u001b[0;32m    126\u001b[0m         level \u001b[39m+\u001b[39m\u001b[39m=\u001b[39m \u001b[39m1\u001b[39m\n\u001b[1;32m--> 127\u001b[0m \u001b[39mreturn\u001b[39;00m _bootstrap\u001b[39m.\u001b[39;49m_gcd_import(name[level:], package, level)\n",
      "File \u001b[1;32m<frozen importlib._bootstrap>:1030\u001b[0m, in \u001b[0;36m_gcd_import\u001b[1;34m(name, package, level)\u001b[0m\n",
      "File \u001b[1;32m<frozen importlib._bootstrap>:1007\u001b[0m, in \u001b[0;36m_find_and_load\u001b[1;34m(name, import_)\u001b[0m\n",
      "File \u001b[1;32m<frozen importlib._bootstrap>:984\u001b[0m, in \u001b[0;36m_find_and_load_unlocked\u001b[1;34m(name, import_)\u001b[0m\n",
      "\u001b[1;31mModuleNotFoundError\u001b[0m: No module named 'h2_dashboard.settings'"
     ]
    }
   ],
   "source": [
    "import os\n",
    "import django\n",
    "\n",
    "os.environ.setdefault('DJANGO_SETTINGS_MODULE', 'h2_dashboard.settings')\n",
    "django.setup()"
   ]
  },
  {
   "cell_type": "code",
   "execution_count": 2,
   "metadata": {},
   "outputs": [],
   "source": [
    "from django.apps import apps\n",
    "\n",
    "def get_benchmark_data():\n",
    "    # List of benchmark models you have, e.g., ['ElectricityProductionBenchmark', 'CO2EmissionsBenchmark']\n",
    "    benchmark_models = ['ElectricityProductionBenchmark', 'CO2EmissionsBenchmark']\n",
    "    benchmark_data = {}\n",
    "\n",
    "    for model_name in benchmark_models:\n",
    "        model = apps.get_model('h2_prod', model_name)  # Adjust 'h2_prod' to your app name if different\n",
    "        benchmarks = model.objects.all()\n",
    "\n",
    "        for benchmark in benchmarks:\n",
    "            key = f\"{model_name}-{benchmark.year}\"\n",
    "            if key not in benchmark_data:\n",
    "                benchmark_data[key] = []\n",
    "            benchmark_data[key].append(benchmark.value)\n",
    "\n",
    "    return benchmark_data\n"
   ]
  },
  {
   "cell_type": "code",
   "execution_count": null,
   "metadata": {},
   "outputs": [],
   "source": []
  }
 ],
 "metadata": {
  "kernelspec": {
   "display_name": "h2_django",
   "language": "python",
   "name": "python3"
  },
  "language_info": {
   "codemirror_mode": {
    "name": "ipython",
    "version": 3
   },
   "file_extension": ".py",
   "mimetype": "text/x-python",
   "name": "python",
   "nbconvert_exporter": "python",
   "pygments_lexer": "ipython3",
   "version": "3.9.12"
  }
 },
 "nbformat": 4,
 "nbformat_minor": 2
}
