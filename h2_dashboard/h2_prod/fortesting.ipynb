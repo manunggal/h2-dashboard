{
 "cells": [
  {
   "cell_type": "code",
   "execution_count": 1,
   "metadata": {},
   "outputs": [],
   "source": [
    "from django.apps import apps\n",
    "\n",
    "def get_benchmark_data():\n",
    "    # List of benchmark models you have, e.g., ['ElectricityProductionBenchmark', 'CO2EmissionsBenchmark']\n",
    "    benchmark_models = ['ElectricityProductionBenchmark', 'CO2EmissionsBenchmark']\n",
    "    benchmark_data = {}\n",
    "\n",
    "    for model_name in benchmark_models:\n",
    "        model = apps.get_model('h2_prod', model_name)  # Adjust 'h2_prod' to your app name if different\n",
    "        benchmarks = model.objects.all()\n",
    "\n",
    "        for benchmark in benchmarks:\n",
    "            key = f\"{model_name}-{benchmark.year}\"\n",
    "            if key not in benchmark_data:\n",
    "                benchmark_data[key] = []\n",
    "            benchmark_data[key].append(benchmark.value)\n",
    "\n",
    "    return benchmark_data\n"
   ]
  },
  {
   "cell_type": "code",
   "execution_count": 2,
   "metadata": {},
   "outputs": [
    {
     "ename": "AppRegistryNotReady",
     "evalue": "Models aren't loaded yet.",
     "output_type": "error",
     "traceback": [
      "\u001b[1;31m---------------------------------------------------------------------------\u001b[0m",
      "\u001b[1;31mAppRegistryNotReady\u001b[0m                       Traceback (most recent call last)",
      "\u001b[1;32mc:\\Users\\manun\\Documents\\CodingProjects\\Python\\hydrogen_issues\\h2_django\\h2_dashboard\\h2_prod\\fortesting.ipynb Cell 2\u001b[0m line \u001b[0;36m1\n\u001b[1;32m----> <a href='vscode-notebook-cell:/c%3A/Users/manun/Documents/CodingProjects/Python/hydrogen_issues/h2_django/h2_dashboard/h2_prod/fortesting.ipynb#W1sZmlsZQ%3D%3D?line=0'>1</a>\u001b[0m \u001b[39mprint\u001b[39m(get_benchmark_data())\n",
      "\u001b[1;32mc:\\Users\\manun\\Documents\\CodingProjects\\Python\\hydrogen_issues\\h2_django\\h2_dashboard\\h2_prod\\fortesting.ipynb Cell 2\u001b[0m line \u001b[0;36m9\n\u001b[0;32m      <a href='vscode-notebook-cell:/c%3A/Users/manun/Documents/CodingProjects/Python/hydrogen_issues/h2_django/h2_dashboard/h2_prod/fortesting.ipynb#W1sZmlsZQ%3D%3D?line=5'>6</a>\u001b[0m benchmark_data \u001b[39m=\u001b[39m {}\n\u001b[0;32m      <a href='vscode-notebook-cell:/c%3A/Users/manun/Documents/CodingProjects/Python/hydrogen_issues/h2_django/h2_dashboard/h2_prod/fortesting.ipynb#W1sZmlsZQ%3D%3D?line=7'>8</a>\u001b[0m \u001b[39mfor\u001b[39;00m model_name \u001b[39min\u001b[39;00m benchmark_models:\n\u001b[1;32m----> <a href='vscode-notebook-cell:/c%3A/Users/manun/Documents/CodingProjects/Python/hydrogen_issues/h2_django/h2_dashboard/h2_prod/fortesting.ipynb#W1sZmlsZQ%3D%3D?line=8'>9</a>\u001b[0m     model \u001b[39m=\u001b[39m apps\u001b[39m.\u001b[39;49mget_model(\u001b[39m'\u001b[39;49m\u001b[39mh2_prod\u001b[39;49m\u001b[39m'\u001b[39;49m, model_name)  \u001b[39m# Adjust 'h2_prod' to your app name if different\u001b[39;00m\n\u001b[0;32m     <a href='vscode-notebook-cell:/c%3A/Users/manun/Documents/CodingProjects/Python/hydrogen_issues/h2_django/h2_dashboard/h2_prod/fortesting.ipynb#W1sZmlsZQ%3D%3D?line=9'>10</a>\u001b[0m     benchmarks \u001b[39m=\u001b[39m model\u001b[39m.\u001b[39mobjects\u001b[39m.\u001b[39mall()\n\u001b[0;32m     <a href='vscode-notebook-cell:/c%3A/Users/manun/Documents/CodingProjects/Python/hydrogen_issues/h2_django/h2_dashboard/h2_prod/fortesting.ipynb#W1sZmlsZQ%3D%3D?line=11'>12</a>\u001b[0m     \u001b[39mfor\u001b[39;00m benchmark \u001b[39min\u001b[39;00m benchmarks:\n",
      "File \u001b[1;32mc:\\Users\\manun\\Documents\\CodingProjects\\Python\\hydrogen_issues\\h2_django\\lib\\site-packages\\django\\apps\\registry.py:201\u001b[0m, in \u001b[0;36mApps.get_model\u001b[1;34m(self, app_label, model_name, require_ready)\u001b[0m\n\u001b[0;32m    189\u001b[0m \u001b[39m\u001b[39m\u001b[39m\"\"\"\u001b[39;00m\n\u001b[0;32m    190\u001b[0m \u001b[39mReturn the model matching the given app_label and model_name.\u001b[39;00m\n\u001b[0;32m    191\u001b[0m \n\u001b[1;32m   (...)\u001b[0m\n\u001b[0;32m    198\u001b[0m \u001b[39mcalled with a single argument that doesn't contain exactly one dot.\u001b[39;00m\n\u001b[0;32m    199\u001b[0m \u001b[39m\"\"\"\u001b[39;00m\n\u001b[0;32m    200\u001b[0m \u001b[39mif\u001b[39;00m require_ready:\n\u001b[1;32m--> 201\u001b[0m     \u001b[39mself\u001b[39;49m\u001b[39m.\u001b[39;49mcheck_models_ready()\n\u001b[0;32m    202\u001b[0m \u001b[39melse\u001b[39;00m:\n\u001b[0;32m    203\u001b[0m     \u001b[39mself\u001b[39m\u001b[39m.\u001b[39mcheck_apps_ready()\n",
      "File \u001b[1;32mc:\\Users\\manun\\Documents\\CodingProjects\\Python\\hydrogen_issues\\h2_django\\lib\\site-packages\\django\\apps\\registry.py:143\u001b[0m, in \u001b[0;36mApps.check_models_ready\u001b[1;34m(self)\u001b[0m\n\u001b[0;32m    141\u001b[0m \u001b[39m\u001b[39m\u001b[39m\"\"\"Raise an exception if all models haven't been imported yet.\"\"\"\u001b[39;00m\n\u001b[0;32m    142\u001b[0m \u001b[39mif\u001b[39;00m \u001b[39mnot\u001b[39;00m \u001b[39mself\u001b[39m\u001b[39m.\u001b[39mmodels_ready:\n\u001b[1;32m--> 143\u001b[0m     \u001b[39mraise\u001b[39;00m AppRegistryNotReady(\u001b[39m\"\u001b[39m\u001b[39mModels aren\u001b[39m\u001b[39m'\u001b[39m\u001b[39mt loaded yet.\u001b[39m\u001b[39m\"\u001b[39m)\n",
      "\u001b[1;31mAppRegistryNotReady\u001b[0m: Models aren't loaded yet."
     ]
    }
   ],
   "source": [
    "print(get_benchmark_data())"
   ]
  }
 ],
 "metadata": {
  "kernelspec": {
   "display_name": "h2_django",
   "language": "python",
   "name": "python3"
  },
  "language_info": {
   "codemirror_mode": {
    "name": "ipython",
    "version": 3
   },
   "file_extension": ".py",
   "mimetype": "text/x-python",
   "name": "python",
   "nbconvert_exporter": "python",
   "pygments_lexer": "ipython3",
   "version": "3.9.12"
  }
 },
 "nbformat": 4,
 "nbformat_minor": 2
}
