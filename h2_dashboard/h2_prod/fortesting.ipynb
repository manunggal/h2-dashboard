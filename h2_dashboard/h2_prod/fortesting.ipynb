{
 "cells": [
  {
   "cell_type": "code",
   "execution_count": null,
   "metadata": {},
   "outputs": [],
   "source": [
    "import os\n",
    "import django\n",
    "\n",
    "os.environ.setdefault('DJANGO_SETTINGS_MODULE', 'h2_dashboard.settings')\n",
    "django.setup()"
   ]
  },
  {
   "cell_type": "code",
   "execution_count": null,
   "metadata": {},
   "outputs": [],
   "source": []
  },
  {
   "cell_type": "code",
   "execution_count": 2,
   "metadata": {},
   "outputs": [],
   "source": [
    "from django.apps import apps\n",
    "\n",
    "def get_benchmark_data():\n",
    "    # List of benchmark models you have, e.g., ['ElectricityProductionBenchmark', 'CO2EmissionsBenchmark']\n",
    "    benchmark_models = ['ElectricityProductionBenchmark', 'CO2EmissionsBenchmark']\n",
    "    benchmark_data = {}\n",
    "\n",
    "    for model_name in benchmark_models:\n",
    "        model = apps.get_model('h2_prod', model_name)  # Adjust 'h2_prod' to your app name if different\n",
    "        benchmarks = model.objects.all()\n",
    "\n",
    "        for benchmark in benchmarks:\n",
    "            key = f\"{model_name}-{benchmark.year}\"\n",
    "            if key not in benchmark_data:\n",
    "                benchmark_data[key] = []\n",
    "            benchmark_data[key].append(benchmark.value)\n",
    "\n",
    "    return benchmark_data\n"
   ]
  },
  {
   "cell_type": "code",
   "execution_count": 5,
   "metadata": {},
   "outputs": [
    {
     "name": "stdout",
     "output_type": "stream",
     "text": [
      "1963\n"
     ]
    }
   ],
   "source": [
    "def current_total_co2_emissions(total_h2_production):\n",
    "    # Percentage of hydrogen production from each source\n",
    "    percentage_gas = 0.48\n",
    "    percentage_oil = 0.3\n",
    "    percentage_coal = 0.18\n",
    "    percentage_electro = 0.04\n",
    "\n",
    "    # CO2 emissions (kg) from each source\n",
    "    co2_per_kg_gas = 12  # kg CO2e per kg H2\n",
    "    co2_per_kg_oil = 18  # kg CO2e per kg H2\n",
    "    co2_per_kg_coal = 24  # kg CO2e per kg H2\n",
    "    co2_per_kg_electro = 22  # kg CO2e per kg H2\n",
    "\n",
    "    # Convert total hydrogen production from megatonnes to kilograms (1 megatonne = 1,000,000,000 kg)\n",
    "    total_h2_prod_kg = total_h2_production * 1e9\n",
    "\n",
    "    # Calculating the CO2 emissions from each source\n",
    "    co2_emissions_gas = total_h2_prod_kg * percentage_gas * co2_per_kg_gas\n",
    "    co2_emissions_oil = total_h2_prod_kg * percentage_oil * co2_per_kg_oil\n",
    "    co2_emissions_coal = total_h2_prod_kg * percentage_coal * co2_per_kg_coal\n",
    "    co2_emissions_electro = total_h2_prod_kg * percentage_electro * co2_per_kg_electro\n",
    "\n",
    "    # Summing up the CO2 emissions from all sources to get the total CO2 emissions from hydrogen production\n",
    "    previous_co2_emission = co2_emissions_gas + co2_emissions_oil + co2_emissions_coal + co2_emissions_electro\n",
    "    return previous_co2_emission * 1e-9  # Conversion to Mega tonnes\n",
    "\n",
    "print(round(current_total_co2_emissions(120)))"
   ]
  },
  {
   "cell_type": "markdown",
   "metadata": {},
   "source": [
    "Customize Your Templates:\n",
    "\n",
    "Begin integrating the AdminLTE template into your Django views. Replace the HTML structure in your Django templates with the structure from AdminLTE's HTML files, making sure to keep Django template tags and context variables intac\n",
    "\n",
    "unit font size\n",
    "move reset button to top left\n",
    "remove calculate button\n",
    "slider to stay in place, only return to default place when reset button is clicked"
   ]
  },
  {
   "cell_type": "code",
   "execution_count": 5,
   "metadata": {},
   "outputs": [
    {
     "name": "stdout",
     "output_type": "stream",
     "text": [
      "4281428571429\n",
      "175200\n",
      "24437.37769080235\n"
     ]
    }
   ],
   "source": [
    "electrolyzer_rating = 20 # MW \n",
    "kwh_per_kg_h2 = 33.3 # kWh \n",
    "default_total_h2_production = 120  # megatonnes per year\n",
    "electrolyzer_efficiency = 70 # percent\n",
    "total_h2_production = 90 # megatonnes per year\n",
    "\n",
    "\n",
    "electricity_per_kg_h2 = kwh_per_kg_h2 / (electrolyzer_efficiency / 100)\n",
    "total_electricity_requirement = electricity_per_kg_h2 * total_h2_production * 1e9  # Conversion to kg\n",
    "electrolyzer_consumption = electrolyzer_rating * 8760 # per year running 24/7\n",
    "required_electrolyzer_units = (total_electricity_requirement*1e-3)/(electrolyzer_rating * 8760) \n",
    "\n",
    "print(round(total_electricity_requirement))\n",
    "print(round(electrolyzer_consumption))\n",
    "print(required_electrolyzer_units)"
   ]
  },
  {
   "cell_type": "code",
   "execution_count": 5,
   "metadata": {},
   "outputs": [
    {
     "name": "stdout",
     "output_type": "stream",
     "text": [
      "<class 'str'>\n"
     ]
    }
   ],
   "source": [
    "post_data = {\n",
    "    'csrfmiddlewaretoken': 'some_token',\n",
    "    'hiddenH2Production': '152',\n",
    "    'hiddenElectrolyzerEff': '70',\n",
    "    'hiddenRenewablePct': '30',\n",
    "    'hiddenCO2Emission': '0.47'\n",
    "}\n",
    "\n"
   ]
  },
  {
   "cell_type": "code",
   "execution_count": 6,
   "metadata": {},
   "outputs": [],
   "source": [
    "def convert_str_float(post_data):\n",
    "\n",
    "\n",
    "\n",
    "    # Define the keys you expect to convert to float\n",
    "    keys_to_convert = ['hiddenH2Production', 'hiddenElectrolyzerEff', 'hiddenRenewablePct', 'hiddenCO2Emission']\n",
    "\n",
    "    # Create a dictionary to hold the converted values\n",
    "    converted_values = {}\n",
    "\n",
    "    # Iterate over the keys and convert the values\n",
    "    for key in keys_to_convert:\n",
    "        try:\n",
    "            converted_values[key] = float(post_data.get(key, 0))\n",
    "        except ValueError:\n",
    "            # Handle the case where conversion fails\n",
    "            print(f\"Value conversion failed for key: {key}\")\n",
    "            converted_values[key] = 0  # or handle this differently as per your need\n",
    "\n",
    "    # Logging the converted values and their types\n",
    "    for key, value in converted_values.items():\n",
    "        print(f\"{key}: {value}, Type: {type(value)}\")\n",
    "    \n",
    "    return converted_values\n",
    "\n",
    "data = convert_str_float(post_data)\n",
    "print(data)"
   ]
  },
  {
   "cell_type": "code",
   "execution_count": 8,
   "metadata": {},
   "outputs": [
    {
     "name": "stdout",
     "output_type": "stream",
     "text": [
      "{'csrfmiddlewaretoken': 'some_token', 'hiddenH2Production': 152.0, 'hiddenElectrolyzerEff': 70.0, 'hiddenRenewablePct': 30.0, 'hiddenCO2Emission': 0.47}\n"
     ]
    }
   ],
   "source": [
    "def post_floater(post_data):\n",
    "    for key, value in post_data.items():\n",
    "        if key != 'csrfmiddlewaretoken':\n",
    "            try:\n",
    "                post_data[key] = float(value)\n",
    "            except ValueError:\n",
    "                # Handle the case where conversion fails\n",
    "                print(f\"Value conversion failed for key: {key}\")\n",
    "                post_data[key] = 0  # or handle this differently as per your need\n",
    "\n",
    "    # Logging the converted values and their types\n",
    "    for key, value in post_data.items():\n",
    "        print(f\"{key}: {value}, Type: {type(value)}\")\n",
    "    \n",
    "    return post_data\n",
    "\n",
    "print(post_floater(post_data))"
   ]
  },
  {
   "cell_type": "code",
   "execution_count": null,
   "metadata": {},
   "outputs": [],
   "source": [
    "def hydrogen_production_view(request):\n",
    "    context = {'form': HydrogenProductionForm()}\n",
    "    \n",
    "    if request.method == 'POST':\n",
    "        post_data = request.POST.copy()\n",
    "        post_data = post_floater(post_data)\n",
    "        \n",
    "        if 'reset' in request.POST:\n",
    "            # if reset button is clicked\n",
    "            # code to present default value in context\n",
    "            return render(request, 'h2_prod/hydrogen_production.html', context)\n",
    "        else:\n",
    "            # initially it was for if calculate button is clicked\n",
    "            form = HydrogenProductionForm(post_data)\n",
    "            if form.is_valid():\n",
    "                # code to return calculation value and plot in context\n",
    "                return render(request, 'h2_prod/hydrogen_production.html', context)\n",
    "            else:\n",
    "                print('form is not valid')\n",
    "                context = {'form': form}\n",
    "                \n",
    "                    # Render the template with context\n",
    "    return render(request, 'h2_prod/hydrogen_production.html', context)\n",
    "                "
   ]
  }
 ],
 "metadata": {
  "kernelspec": {
   "display_name": "Python 3 (ipykernel)",
   "language": "python",
   "name": "python3"
  },
  "language_info": {
   "codemirror_mode": {
    "name": "ipython",
    "version": 3
   },
   "file_extension": ".py",
   "mimetype": "text/x-python",
   "name": "python",
   "nbconvert_exporter": "python",
   "pygments_lexer": "ipython3",
   "version": "3.9.12"
  }
 },
 "nbformat": 4,
 "nbformat_minor": 2
}
